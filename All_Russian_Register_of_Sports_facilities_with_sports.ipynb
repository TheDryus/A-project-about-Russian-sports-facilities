{
 "nbformat": 4,
 "nbformat_minor": 0,
 "metadata": {
  "colab": {
   "name": "All-Russian Register of Sports facilities with sports.ipynb",
   "provenance": [],
   "collapsed_sections": []
  },
  "kernelspec": {
   "name": "python3",
   "display_name": "Python 3"
  },
  "language_info": {
   "name": "python"
  }
 },
 "cells": [
  {
   "cell_type": "code",
   "source": [
    "#Импорт библеотек\n",
    "import numpy as np\n",
    "import pandas as pd\n",
    "import matplotlib.pyplot as plt"
   ],
   "metadata": {
    "id": "X2rqDm-WpgEh",
    "pycharm": {
     "name": "#%%\n"
    }
   },
   "execution_count": 36,
   "outputs": []
  },
  {
   "cell_type": "code",
   "source": [
    "#Набор только для обращения к истинному датасету\n",
    "df_main = pd.read_csv(r\"C:\\Users\\andza\\AAA\\GitHub\\Project on Russian sports facilities\\Data.csv\", encoding='Windows-1251')"
   ],
   "metadata": {
    "id": "NQDNLJ70vdp_",
    "pycharm": {
     "name": "#%%\n"
    }
   },
   "execution_count": 37,
   "outputs": []
  },
  {
   "cell_type": "code",
   "source": [
    "#Набор для редактирования и дальнейших работ\n",
    "df = pd.read_csv(r\"C:\\Users\\andza\\AAA\\GitHub\\Project on Russian sports facilities\\Data.csv\", encoding='Windows-1251')"
   ],
   "metadata": {
    "id": "715wglF_ps-8",
    "pycharm": {
     "name": "#%%\n"
    }
   },
   "execution_count": 38,
   "outputs": []
  },
  {
   "cell_type": "code",
   "source": [
    "df.head(2)"
   ],
   "metadata": {
    "colab": {
     "base_uri": "https://localhost:8080/",
     "height": 431
    },
    "id": "MS-uZAVbrT1_",
    "outputId": "344043ed-b46d-4ed2-a62f-738c6b31e34e",
    "pycharm": {
     "name": "#%%\n"
    }
   },
   "execution_count": 39,
   "outputs": [
    {
     "data": {
      "text/plain": "   id:                                    Название: Название (in english):  \\\n0  208  Крытый плавательный бассейн «Садко» СДЮСШОР   Indoor swimming pool   \n1  214              Спортивный зал для мини-футбола     Futsal sports hall   \n\n  Активный:                                  Краткое описание:  \\\n0         Y  МБОУ ДОД СДЮСШОР г. Советский единственное учр...   \n1         Y  Отдельно стоящее здание, расположено на обособ...   \n\n                                 Детальное описание:  \\\n0  Общая площадь здания «Крытого плавательного ба...   \n1  Здание кирпичное, бетонное, блоки «Сэндвичи». ...   \n\n                      Краткое описание (in english):  \\\n0   In February 2009 the building of the “Covered...   \n1  Detached building, located on the isolated are...   \n\n                    Детальное описание (in english):              МО:  \\\n0  Total area of ??the &quot Indoor Swimming Pool...  Советский район   \n1  The building is made of brick, concrete, &quot...   Город Лангепас   \n\n    Субъект федерации:  ... Мини координата X: Мини координата Y:  \\\n0  Ханты-Мансийский АО  ...              0.334             0.3893   \n1  Ханты-Мансийский АО  ...                NaN                NaN   \n\n  Генеральный план: Дополнительные планы: Фото:  \\\n0                 0                     0    24   \n1                 0                     0    18   \n\n                           URL фото галереи объекта: Видео: Панорамы:  \\\n0  http://objects.minsportfcp.ru/objects/detail/g...      0         0   \n1  http://objects.minsportfcp.ru/objects/detail/g...      0         0   \n\n  Web-трансляции: Прочие материалы:  \n0               0                 1  \n1               0                 0  \n\n[2 rows x 61 columns]",
      "text/html": "<div>\n<style scoped>\n    .dataframe tbody tr th:only-of-type {\n        vertical-align: middle;\n    }\n\n    .dataframe tbody tr th {\n        vertical-align: top;\n    }\n\n    .dataframe thead th {\n        text-align: right;\n    }\n</style>\n<table border=\"1\" class=\"dataframe\">\n  <thead>\n    <tr style=\"text-align: right;\">\n      <th></th>\n      <th>id:</th>\n      <th>Название:</th>\n      <th>Название (in english):</th>\n      <th>Активный:</th>\n      <th>Краткое описание:</th>\n      <th>Детальное описание:</th>\n      <th>Краткое описание (in english):</th>\n      <th>Детальное описание (in english):</th>\n      <th>МО:</th>\n      <th>Субъект федерации:</th>\n      <th>...</th>\n      <th>Мини координата X:</th>\n      <th>Мини координата Y:</th>\n      <th>Генеральный план:</th>\n      <th>Дополнительные планы:</th>\n      <th>Фото:</th>\n      <th>URL фото галереи объекта:</th>\n      <th>Видео:</th>\n      <th>Панорамы:</th>\n      <th>Web-трансляции:</th>\n      <th>Прочие материалы:</th>\n    </tr>\n  </thead>\n  <tbody>\n    <tr>\n      <th>0</th>\n      <td>208</td>\n      <td>Крытый плавательный бассейн «Садко» СДЮСШОР</td>\n      <td>Indoor swimming pool</td>\n      <td>Y</td>\n      <td>МБОУ ДОД СДЮСШОР г. Советский единственное учр...</td>\n      <td>Общая площадь здания «Крытого плавательного ба...</td>\n      <td>In February 2009 the building of the “Covered...</td>\n      <td>Total area of ??the &amp;quot Indoor Swimming Pool...</td>\n      <td>Советский район</td>\n      <td>Ханты-Мансийский АО</td>\n      <td>...</td>\n      <td>0.334</td>\n      <td>0.3893</td>\n      <td>0</td>\n      <td>0</td>\n      <td>24</td>\n      <td>http://objects.minsportfcp.ru/objects/detail/g...</td>\n      <td>0</td>\n      <td>0</td>\n      <td>0</td>\n      <td>1</td>\n    </tr>\n    <tr>\n      <th>1</th>\n      <td>214</td>\n      <td>Спортивный зал для мини-футбола</td>\n      <td>Futsal sports hall</td>\n      <td>Y</td>\n      <td>Отдельно стоящее здание, расположено на обособ...</td>\n      <td>Здание кирпичное, бетонное, блоки «Сэндвичи». ...</td>\n      <td>Detached building, located on the isolated are...</td>\n      <td>The building is made of brick, concrete, &amp;quot...</td>\n      <td>Город Лангепас</td>\n      <td>Ханты-Мансийский АО</td>\n      <td>...</td>\n      <td>NaN</td>\n      <td>NaN</td>\n      <td>0</td>\n      <td>0</td>\n      <td>18</td>\n      <td>http://objects.minsportfcp.ru/objects/detail/g...</td>\n      <td>0</td>\n      <td>0</td>\n      <td>0</td>\n      <td>0</td>\n    </tr>\n  </tbody>\n</table>\n<p>2 rows × 61 columns</p>\n</div>"
     },
     "execution_count": 39,
     "metadata": {},
     "output_type": "execute_result"
    }
   ]
  },
  {
   "cell_type": "code",
   "source": [
    "df.shape"
   ],
   "metadata": {
    "colab": {
     "base_uri": "https://localhost:8080/"
    },
    "id": "Q_KfXL_usthL",
    "outputId": "654b0d92-b2ce-49f3-9bb9-c1afeadbb3c0",
    "pycharm": {
     "name": "#%%\n"
    }
   },
   "execution_count": 40,
   "outputs": [
    {
     "data": {
      "text/plain": "(929, 61)"
     },
     "execution_count": 40,
     "metadata": {},
     "output_type": "execute_result"
    }
   ]
  },
  {
   "cell_type": "code",
   "source": [
    "#Наблюдаем количество отсутствующих признаков в колонках\n",
    "df.isnull().sum()"
   ],
   "metadata": {
    "colab": {
     "base_uri": "https://localhost:8080/"
    },
    "id": "wKtNuFqOwt0j",
    "outputId": "839963e0-51fb-4554-aa58-4686d80eef2e",
    "pycharm": {
     "name": "#%%\n"
    }
   },
   "execution_count": 41,
   "outputs": [
    {
     "data": {
      "text/plain": "id:                            0\nНазвание:                      1\nНазвание (in english):        27\nАктивный:                      1\nКраткое описание:            167\n                            ... \nURL фото галереи объекта:      1\nВидео:                         0\nПанорамы:                      0\nWeb-трансляции:                0\nПрочие материалы:              0\nLength: 61, dtype: int64"
     },
     "execution_count": 41,
     "metadata": {},
     "output_type": "execute_result"
    }
   ]
  },
  {
   "cell_type": "code",
   "source": [
    "#Просматриваем колонки для того, чтобы лучше понять характер данных в датасете\n",
    "df.columns"
   ],
   "metadata": {
    "colab": {
     "base_uri": "https://localhost:8080/"
    },
    "id": "WTgiwGw7s4Va",
    "outputId": "6ce48813-1b7c-4046-b518-e77185599805",
    "pycharm": {
     "name": "#%%\n"
    }
   },
   "execution_count": 42,
   "outputs": [
    {
     "data": {
      "text/plain": "Index(['id:', 'Название:', 'Название (in english):', 'Активный:',\n       'Краткое описание:', 'Детальное описание:',\n       'Краткое описание (in english):', 'Детальное описание (in english):',\n       'МО:', 'Субъект федерации:', 'Значимость:', 'Населённый пункт:',\n       'Населённый пункт (in english):', 'Адрес:', 'Адрес (in english):',\n       'ОКТМО:', 'ФЦП (федеральная целевая программа):',\n       'Действия с объектом:', 'Дата начала строительства / реконструкции:',\n       'Дата завершения строительства / реконструкции:',\n       'Общий объём финансирования:',\n       'Финансирование из федерального бюджета:',\n       'Финансирование из федерального бюджета (из них освоено):',\n       'Финансирование из бюджета субъекта федерации:',\n       'Финансирование из бюджета субъекта федерации (из них освоено):',\n       'Финансирование из бюджета муниципального образования:',\n       'Финансирование из бюджета муниципального образования (из них освоено):',\n       'Финансирование из внебюджетных источников:',\n       'Финансирование из внебюджетных источников (из них освоено):',\n       'Ключевой или нет?:', 'Курирующий орган:',\n       'Курирующий орган (in english):', 'Адрес курирующего органа:',\n       'Адрес курирующего органа (in english):', 'Телефон курирующего органа:',\n       'Контактный телефон объекта:', 'Режим работы Пн.-Пт.:',\n       'Режим работы Сб.:', 'Режим работы Вс.:', 'Площадь:', 'E-mail:',\n       'URL сайта:', 'Внесён в реестр?:', 'Тип спортивного комплекса:',\n       'Какие соревнования проводятся?:', 'Виды спорта:',\n       'Яндекс координата объекта X:', 'Яндекс координата объекта Y:',\n       'Маштаб Яндекс-карты:', 'Яндекс координата центра X:',\n       'Яндекс координата центра Y:', 'Мини координата X:',\n       'Мини координата Y:', 'Генеральный план:', 'Дополнительные планы:',\n       'Фото:', 'URL фото галереи объекта:', 'Видео:', 'Панорамы:',\n       'Web-трансляции:', 'Прочие материалы:'],\n      dtype='object')"
     },
     "execution_count": 42,
     "metadata": {},
     "output_type": "execute_result"
    }
   ]
  },
  {
   "cell_type": "markdown",
   "source": [],
   "metadata": {
    "id": "Vl2ldqZw4Iac",
    "pycharm": {
     "name": "#%% md\n"
    }
   }
  },
  {
   "cell_type": "code",
   "source": [
    "#Удаляем колонки с ненужной для задачи информацией\n",
    "df = df.drop(columns=['Название (in english):',\n",
    "                 'Краткое описание:',\n",
    "                 'Детальное описание:',\n",
    "                 'Краткое описание (in english):',\n",
    "                 'Детальное описание (in english):',\n",
    "                 'Адрес (in english):',\n",
    "                 'ФЦП (федеральная целевая программа):',\n",
    "                 'Дата начала строительства / реконструкции:',\n",
    "                 'Дата завершения строительства / реконструкции:',\n",
    "                 'Ключевой или нет?:',\n",
    "                 'Курирующий орган:',\n",
    "                 'Курирующий орган (in english):',\n",
    "                 'Адрес курирующего органа:',\n",
    "                 'Адрес курирующего органа (in english):',\n",
    "                 'Телефон курирующего органа:',\n",
    "                 'Контактный телефон объекта:',\n",
    "                 'E-mail:',\n",
    "                 'URL сайта:',\n",
    "                 'Внесён в реестр?:',\n",
    "                 'Площадь:',\n",
    "                 'Какие соревнования проводятся?:',\n",
    "                 'Генеральный план:',\n",
    "                 'Дополнительные планы:',\n",
    "                 'Фото:',\n",
    "                 'URL фото галереи объекта:',\n",
    "                 'Видео:',\n",
    "                 'Панорамы:',\n",
    "                 'Web-трансляции:',\n",
    "                 'Прочие материалы:',\n",
    "                 'Режим работы Пн.-Пт.:',\n",
    "                 'Режим работы Сб.:',\n",
    "                 'Режим работы Вс.:',\n",
    "                 'Значимость:',\n",
    "                 'Населённый пункт (in english):',\n",
    "                 'Финансирование из федерального бюджета (из них освоено):',\n",
    "                 'Финансирование из бюджета субъекта федерации (из них освоено):',\n",
    "                 'Финансирование из бюджета муниципального образования (из них освоено):',\n",
    "                 'Финансирование из внебюджетных источников (из них освоено):',\n",
    "                 'Субъект федерации:',\n",
    "                 'Населённый пункт:',\n",
    "                 'Действия с объектом:',\n",
    "                 'Маштаб Яндекс-карты:',\n",
    "                 'Яндекс координата центра X:',\n",
    "                 'Яндекс координата центра Y:',\n",
    "                 'Мини координата X:',\n",
    "                 'Мини координата Y:',\n",
    "                 'МО:',\n",
    "                 'ОКТМО:',\n",
    "                 'Финансирование из федерального бюджета:',\n",
    "                 'Финансирование из бюджета субъекта федерации:',\n",
    "                 'Финансирование из бюджета муниципального образования:',\n",
    "                 'Финансирование из внебюджетных источников:'\n",
    "\n",
    "])"
   ],
   "metadata": {
    "id": "tD1PsdMHuCar",
    "pycharm": {
     "name": "#%%\n"
    }
   },
   "execution_count": 43,
   "outputs": []
  },
  {
   "cell_type": "code",
   "source": [
    "df.columns"
   ],
   "metadata": {
    "colab": {
     "base_uri": "https://localhost:8080/"
    },
    "id": "bTnN250-2KYs",
    "outputId": "67e9529f-8b36-4ed3-f246-ce7df9047027",
    "pycharm": {
     "name": "#%%\n"
    }
   },
   "execution_count": 44,
   "outputs": [
    {
     "data": {
      "text/plain": "Index(['id:', 'Название:', 'Активный:', 'Адрес:',\n       'Общий объём финансирования:', 'Тип спортивного комплекса:',\n       'Виды спорта:', 'Яндекс координата объекта X:',\n       'Яндекс координата объекта Y:'],\n      dtype='object')"
     },
     "execution_count": 44,
     "metadata": {},
     "output_type": "execute_result"
    }
   ]
  },
  {
   "cell_type": "code",
   "source": [
    "#Переименовываем оставшиеся колонки для удобной работы\n",
    "df.rename(columns={\n",
    "    'id:':'id',\n",
    "    'Название:':'name',\n",
    "    'Активный:':'current',\n",
    "    'Адрес:':'adress',\n",
    "    'Общий объём финансирования:':'financing',\n",
    "    'Тип спортивного комплекса:':'type_of_complex',\n",
    "    'Виды спорта:':'types_of_sports',\n",
    "    'Яндекс координата объекта X:':'longitude',\n",
    "    'Яндекс координата объекта Y:':'latitude'\n",
    "\n",
    "}\n",
    "          ,inplace=True)"
   ],
   "metadata": {
    "id": "7uS6Cofhs8eW",
    "pycharm": {
     "name": "#%%\n"
    }
   },
   "execution_count": 45,
   "outputs": []
  },
  {
   "cell_type": "code",
   "source": [
    "df.columns"
   ],
   "metadata": {
    "colab": {
     "base_uri": "https://localhost:8080/"
    },
    "id": "DLOP33u0uAwK",
    "outputId": "126e4f53-d955-4564-ef85-fbfd6fb86392",
    "pycharm": {
     "name": "#%%\n"
    }
   },
   "execution_count": 46,
   "outputs": [
    {
     "data": {
      "text/plain": "Index(['id', 'name', 'current', 'adress', 'financing', 'type_of_complex',\n       'types_of_sports', 'longitude', 'latitude'],\n      dtype='object')"
     },
     "execution_count": 46,
     "metadata": {},
     "output_type": "execute_result"
    }
   ]
  },
  {
   "cell_type": "code",
   "source": [
    "df.describe()"
   ],
   "metadata": {
    "colab": {
     "base_uri": "https://localhost:8080/",
     "height": 300
    },
    "id": "IhG14n8LK00L",
    "outputId": "30cd6979-b7ea-4621-fbe6-f2f829b2eb54",
    "pycharm": {
     "name": "#%%\n"
    }
   },
   "execution_count": 47,
   "outputs": [
    {
     "data": {
      "text/plain": "          financing   longitude    latitude\ncount  9.280000e+02  927.000000  927.000000\nmean   1.736664e+08   55.475362   53.511775\nstd    5.613106e+08   26.794427    5.204169\nmin    0.000000e+00   20.453600   42.121500\n25%    1.597774e+07   39.726200   51.191700\n50%    3.813755e+07   45.139000   54.208100\n75%    1.277002e+08   56.375750   56.482150\nmax    7.897261e+09  158.672900   69.758800",
      "text/html": "<div>\n<style scoped>\n    .dataframe tbody tr th:only-of-type {\n        vertical-align: middle;\n    }\n\n    .dataframe tbody tr th {\n        vertical-align: top;\n    }\n\n    .dataframe thead th {\n        text-align: right;\n    }\n</style>\n<table border=\"1\" class=\"dataframe\">\n  <thead>\n    <tr style=\"text-align: right;\">\n      <th></th>\n      <th>financing</th>\n      <th>longitude</th>\n      <th>latitude</th>\n    </tr>\n  </thead>\n  <tbody>\n    <tr>\n      <th>count</th>\n      <td>9.280000e+02</td>\n      <td>927.000000</td>\n      <td>927.000000</td>\n    </tr>\n    <tr>\n      <th>mean</th>\n      <td>1.736664e+08</td>\n      <td>55.475362</td>\n      <td>53.511775</td>\n    </tr>\n    <tr>\n      <th>std</th>\n      <td>5.613106e+08</td>\n      <td>26.794427</td>\n      <td>5.204169</td>\n    </tr>\n    <tr>\n      <th>min</th>\n      <td>0.000000e+00</td>\n      <td>20.453600</td>\n      <td>42.121500</td>\n    </tr>\n    <tr>\n      <th>25%</th>\n      <td>1.597774e+07</td>\n      <td>39.726200</td>\n      <td>51.191700</td>\n    </tr>\n    <tr>\n      <th>50%</th>\n      <td>3.813755e+07</td>\n      <td>45.139000</td>\n      <td>54.208100</td>\n    </tr>\n    <tr>\n      <th>75%</th>\n      <td>1.277002e+08</td>\n      <td>56.375750</td>\n      <td>56.482150</td>\n    </tr>\n    <tr>\n      <th>max</th>\n      <td>7.897261e+09</td>\n      <td>158.672900</td>\n      <td>69.758800</td>\n    </tr>\n  </tbody>\n</table>\n</div>"
     },
     "execution_count": 47,
     "metadata": {},
     "output_type": "execute_result"
    }
   ]
  },
  {
   "cell_type": "code",
   "source": [
    "df['current'].value_counts()"
   ],
   "metadata": {
    "colab": {
     "base_uri": "https://localhost:8080/"
    },
    "id": "XkP1KStZrU34",
    "outputId": "e003d46f-311d-4a6a-8445-4c9aaf142378",
    "pycharm": {
     "name": "#%%\n"
    }
   },
   "execution_count": 48,
   "outputs": [
    {
     "data": {
      "text/plain": "Y    847\nN     81\nName: current, dtype: int64"
     },
     "execution_count": 48,
     "metadata": {},
     "output_type": "execute_result"
    }
   ]
  },
  {
   "cell_type": "code",
   "source": [
    "#Просматриваем типы данных в нужных колонках\n",
    "df.dtypes"
   ],
   "metadata": {
    "colab": {
     "base_uri": "https://localhost:8080/"
    },
    "id": "3JL8M5GA2BP-",
    "outputId": "c0388c31-3e96-4d9c-9cf0-7e186d883ffb",
    "pycharm": {
     "name": "#%%\n"
    }
   },
   "execution_count": 49,
   "outputs": [
    {
     "data": {
      "text/plain": "id                  object\nname                object\ncurrent             object\nadress              object\nfinancing          float64\ntype_of_complex     object\ntypes_of_sports     object\nlongitude          float64\nlatitude           float64\ndtype: object"
     },
     "execution_count": 49,
     "metadata": {},
     "output_type": "execute_result"
    }
   ]
  },
  {
   "cell_type": "code",
   "source": [
    "plt.hist(df['financing'])"
   ],
   "metadata": {
    "colab": {
     "base_uri": "https://localhost:8080/",
     "height": 365
    },
    "id": "RCpol4JLL660",
    "outputId": "6fecca92-54b8-40a8-cbef-f8383249ec5c",
    "pycharm": {
     "name": "#%%\n"
    }
   },
   "execution_count": 50,
   "outputs": [
    {
     "data": {
      "text/plain": "(array([889.,  20.,   7.,   4.,   2.,   3.,   1.,   0.,   0.,   2.]),\n array([0.00000000e+00, 7.89726140e+08, 1.57945228e+09, 2.36917842e+09,\n        3.15890456e+09, 3.94863070e+09, 4.73835684e+09, 5.52808298e+09,\n        6.31780912e+09, 7.10753526e+09, 7.89726140e+09]),\n <BarContainer object of 10 artists>)"
     },
     "execution_count": 50,
     "metadata": {},
     "output_type": "execute_result"
    },
    {
     "data": {
      "text/plain": "<Figure size 432x288 with 1 Axes>",
      "image/png": "[encoded data removed]"
     },
     "metadata": {
      "needs_background": "light"
     },
     "output_type": "display_data"
    }
   ]
  },
  {
   "cell_type": "code",
   "source": [],
   "metadata": {
    "id": "0PRfdX5SfDv0",
    "pycharm": {
     "name": "#%%\n"
    }
   },
   "execution_count": 50,
   "outputs": []
  }
 ]
}